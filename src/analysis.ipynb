{
 "cells": [
  {
   "cell_type": "markdown",
   "metadata": {},
   "source": [
    "# **Desafio Técnico: RenovaBR**\n",
    "\n",
    "Este projeto implementa técnicas típicas de Ciência de Dados ao desafio proposto pelo **RenovaBR**. O desafio consiste em **analisar dados eleitorais do estado de São Paulo e seus municípios nas eleições de 2020**. Conforme sugerido pelo RenovaBR no [documento que descreve o desafio](../desafio-tecnico.pdf), o projeto segue o seguinte roteiro:\n",
    "\n",
    "🧹 Pré-processamento e tratamento dos dados\n",
    "\n",
    "🐘 Dump dos dados tratados em um banco de dados relacional\n",
    "\n",
    "⌨️ Acesso aos dados via SQL em Python\n",
    "\n",
    "📊 Análise Exploratória dos Dados\n",
    "\n",
    "A análise exploratória estará conjugada à resolução de algumas questões propostas, mas não se limitará a elas. O objetivo é explorar os dados e extrair informações relevantes para a tomada de decisão."
   ]
  },
  {
   "cell_type": "markdown",
   "metadata": {},
   "source": [
    "---"
   ]
  },
  {
   "cell_type": "markdown",
   "metadata": {},
   "source": [
    "### **📚 Importando as bibliotecas**"
   ]
  },
  {
   "cell_type": "code",
   "execution_count": 1,
   "metadata": {},
   "outputs": [
    {
     "name": "stdout",
     "output_type": "stream",
     "text": [
      "-----\n",
      "geobr               NA\n",
      "geopandas           0.7.0\n",
      "matplotlib          3.7.0\n",
      "pandas              2.0.2\n",
      "seaborn             0.12.2\n",
      "session_info        1.0.0\n",
      "-----\n",
      "IPython             8.11.0\n",
      "jupyter_client      8.0.3\n",
      "jupyter_core        5.2.0\n",
      "notebook            6.5.3\n",
      "-----\n",
      "Python 3.11.3 (main, Apr  7 2023, 19:29:16) [Clang 14.0.0 (clang-1400.0.29.202)]\n",
      "macOS-12.6.6-x86_64-i386-64bit\n",
      "-----\n",
      "Session information updated at 2023-08-17 08:52\n"
     ]
    }
   ],
   "source": [
    "# processamento e analise de dados\n",
    "import pandas as pd\n",
    "\n",
    "# visualizacao de dados\n",
    "import matplotlib.pyplot as plt\n",
    "import seaborn as sns\n",
    "\n",
    "# geoprocessamento de dados\n",
    "import geopandas as gpd\n",
    "import geobr\n",
    "\n",
    "# versoes dos pacotes, python e sistema operacional\n",
    "import session_info\n",
    "session_info.show(html = False, dependencies = False)"
   ]
  },
  {
   "cell_type": "markdown",
   "metadata": {},
   "source": [
    "### **🧹 Pré-processamento e tratamento dos dados**"
   ]
  },
  {
   "cell_type": "code",
   "execution_count": 2,
   "metadata": {},
   "outputs": [],
   "source": [
    "# mude seu caminho ate o arquivo aqui\n",
    "PATH_TO_ELEITORADO = \"../database_desafio_renovaBR/eleitorado/perfil_eleitorado_2020/perfil_eleitorado_2020.csv\"\n",
    "PATH_TO_RESULTADOS = \"../database_desafio_renovaBR/resultados/SP_turno_1.csv\"\n",
    "\n",
    "# leitura dos arquivos\n",
    "eleitorado = pd.read_csv(PATH_TO_ELEITORADO, sep=\";\", encoding=\"latin1\")\n",
    "resultados = pd.read_csv(PATH_TO_RESULTADOS, sep=\";\", encoding=\"latin1\")"
   ]
  },
  {
   "cell_type": "markdown",
   "metadata": {},
   "source": [
    "Agora que lemos os dados e os colocamos em um DataFrame, podemos começar a analisá-los. Primeiro, como sabemos que os arquivos `.csv` são bastante grandes, vamos verificar se há entradas que podem ser removidas logo de cara. Por exemplo, sabemos que estamos interessados nos dados apenas do estado de São Paulo. Caso haja informações sobre outros estados no DataFrame, podemos removê-las. Vejamos:"
   ]
  },
  {
   "cell_type": "code",
   "execution_count": 3,
   "metadata": {},
   "outputs": [
    {
     "data": {
      "text/plain": [
       "SG_UF\n",
       "SP    639502\n",
       "MG    609026\n",
       "RS    320563\n",
       "BA    317883\n",
       "PR    287673\n",
       "Name: count, dtype: int64"
      ]
     },
     "execution_count": 3,
     "metadata": {},
     "output_type": "execute_result"
    }
   ],
   "source": [
    "eleitorado[\"SG_UF\"].value_counts().head()"
   ]
  },
  {
   "cell_type": "markdown",
   "metadata": {},
   "source": [
    "Vamos filtrar os casos correspondentes apenas ao estado de São Paulo."
   ]
  },
  {
   "cell_type": "code",
   "execution_count": 4,
   "metadata": {},
   "outputs": [
    {
     "data": {
      "text/plain": [
       "SG_UF\n",
       "SP    639502\n",
       "Name: count, dtype: int64"
      ]
     },
     "execution_count": 4,
     "metadata": {},
     "output_type": "execute_result"
    }
   ],
   "source": [
    "# filtrar apenas os eleitores de SP\n",
    "eleitorado = eleitorado.query(\"SG_UF == 'SP'\")\n",
    "\n",
    "# check \n",
    "eleitorado[\"SG_UF\"].value_counts()"
   ]
  },
  {
   "cell_type": "markdown",
   "metadata": {},
   "source": [
    "No caso dos dados de resultados eleitorais, a tabela já se restringe ao estado desejado. Portanto, não é necessário filtrar os dados em relação ao estado."
   ]
  },
  {
   "cell_type": "code",
   "execution_count": 5,
   "metadata": {},
   "outputs": [
    {
     "data": {
      "text/plain": [
       "SG_UF\n",
       "SP    9434000\n",
       "Name: count, dtype: int64"
      ]
     },
     "execution_count": 5,
     "metadata": {},
     "output_type": "execute_result"
    }
   ],
   "source": [
    "# check\n",
    "resultados[\"SG_UF\"].value_counts()"
   ]
  },
  {
   "cell_type": "markdown",
   "metadata": {},
   "source": [
    "Agora, vamos analisar as colunas do nosso dataset e verificar quais colunas podem ser removidas. Para isso, é importante entender o que cada coluna representa. Isso será possível através do dicionário de dados [dicionário de dados](../database_desafio_renovaBR/eleitorado/perfil_eleitorado_2020/leiame.pdf). Naturalmente, a escolha das colunas a serem mantidas ou removidas é subjetiva e depende do objetivo da análise. Neste caso, **vamos remover as colunas que não serão utilizadas na análise.**\n",
    "\n",
    "Veja as colunas do dataset `eleitorado`:"
   ]
  },
  {
   "cell_type": "code",
   "execution_count": 6,
   "metadata": {},
   "outputs": [
    {
     "data": {
      "text/plain": [
       "Index(['DT_GERACAO', 'HH_GERACAO', 'ANO_ELEICAO', 'SG_UF', 'CD_MUNICIPIO',\n",
       "       'NM_MUNICIPIO', 'CD_MUN_SIT_BIOMETRIA', 'DS_MUN_SIT_BIOMETRIA',\n",
       "       'NR_ZONA', 'CD_GENERO', 'DS_GENERO', 'CD_ESTADO_CIVIL',\n",
       "       'DS_ESTADO_CIVIL', 'CD_FAIXA_ETARIA', 'DS_FAIXA_ETARIA',\n",
       "       'CD_GRAU_ESCOLARIDADE', 'DS_GRAU_ESCOLARIDADE', 'QT_ELEITORES_PERFIL',\n",
       "       'QT_ELEITORES_BIOMETRIA', 'QT_ELEITORES_DEFICIENCIA',\n",
       "       'QT_ELEITORES_INC_NM_SOCIAL'],\n",
       "      dtype='object')"
      ]
     },
     "execution_count": 6,
     "metadata": {},
     "output_type": "execute_result"
    }
   ],
   "source": [
    "# checando as colunas do dataset\n",
    "eleitorado.columns"
   ]
  },
  {
   "cell_type": "markdown",
   "metadata": {},
   "source": [
    "Para responder às perguntas de negócio, vale a pena mantermos as colunas indicadas abaixo. Note que normalmente não removeríamos as colunas `ANO_ELEICAO` e `SG_UF`, mas, como estamos analisando apenas um estado e um ano, elas não são relevantes para a análise."
   ]
  },
  {
   "cell_type": "code",
   "execution_count": 7,
   "metadata": {},
   "outputs": [],
   "source": [
    "# definindo as colunas de interesse\n",
    "eleitorado_colunas = [\"CD_MUNICIPIO\", \"NM_MUNICIPIO\", \"NR_ZONA\", \n",
    "                      \"DS_GENERO\", \"DS_ESTADO_CIVIL\", \"DS_FAIXA_ETARIA\", \n",
    "                      \"DS_GRAU_ESCOLARIDADE\", \"QT_ELEITORES_PERFIL\"]\n",
    "\n",
    "# Filtrando as colunas de interesse\n",
    "eleitorado_filt = eleitorado[eleitorado_colunas]\n",
    "\n",
    "# Checando se o número de linhas do dataset original é igual ao número de linhas do dataset filtrado\n",
    "assert eleitorado.shape[0] == eleitorado_filt.drop_duplicates().shape[0]"
   ]
  },
  {
   "cell_type": "markdown",
   "metadata": {},
   "source": [
    "Agora faremos o mesmo para o dataset `resultados`. Vale o comentário relacionado às colunas `ANO_ELEICAO` e `SG_UF`."
   ]
  },
  {
   "cell_type": "code",
   "execution_count": 8,
   "metadata": {},
   "outputs": [
    {
     "data": {
      "text/plain": [
       "Index(['DT_GERACAO', 'HH_GERACAO', 'ANO_ELEICAO', 'CD_TIPO_ELEICAO',\n",
       "       'NM_TIPO_ELEICAO', 'CD_PLEITO', 'DT_PLEITO', 'NR_TURNO', 'CD_ELEICAO',\n",
       "       'DS_ELEICAO', 'SG_UF', 'CD_MUNICIPIO', 'NM_MUNICIPIO', 'NR_ZONA',\n",
       "       'NR_SECAO', 'NR_LOCAL_VOTACAO', 'CD_CARGO_PERGUNTA',\n",
       "       'DS_CARGO_PERGUNTA', 'NR_PARTIDO', 'SG_PARTIDO', 'NM_PARTIDO',\n",
       "       'DT_BU_RECEBIDO', 'QT_APTOS', 'QT_COMPARECIMENTO', 'QT_ABSTENCOES',\n",
       "       'CD_TIPO_URNA', 'DS_TIPO_URNA', 'CD_TIPO_VOTAVEL', 'DS_TIPO_VOTAVEL',\n",
       "       'NR_VOTAVEL', 'NM_VOTAVEL', 'QT_VOTOS', 'NR_URNA_EFETIVADA',\n",
       "       'CD_CARGA_1_URNA_EFETIVADA', 'CD_CARGA_2_URNA_EFETIVADA',\n",
       "       'CD_FLASHCARD_URNA_EFETIVADA', 'DT_CARGA_URNA_EFETIVADA',\n",
       "       'DS_CARGO_PERGUNTA_SECAO', 'DS_AGREGADAS', 'DT_ABERTURA',\n",
       "       'DT_ENCERRAMENTO', 'QT_ELEITORES_BIOMETRIA_NH', 'DT_EMISSAO_BU',\n",
       "       'NR_JUNTA_APURADORA', 'NR_TURMA_APURADORA'],\n",
       "      dtype='object')"
      ]
     },
     "execution_count": 8,
     "metadata": {},
     "output_type": "execute_result"
    }
   ],
   "source": [
    "# checando as colunas do dataset\n",
    "resultados.columns"
   ]
  },
  {
   "cell_type": "code",
   "execution_count": 9,
   "metadata": {},
   "outputs": [],
   "source": [
    "# definindo as colunas de interesse\n",
    "resultados_colunas = [\"NM_TIPO_ELEICAO\", \"DS_ELEICAO\", \"CD_MUNICIPIO\", \n",
    "                      \"NM_MUNICIPIO\", \"NR_ZONA\", \"NR_SECAO\",\n",
    "                      \"NR_LOCAL_VOTACAO\", \"DS_CARGO_PERGUNTA\", \"SG_PARTIDO\",\n",
    "                      \"NR_VOTAVEL\", \"NM_VOTAVEL\", \"QT_VOTOS\"]\n",
    "\n",
    "# Filtrando as colunas de interesse\n",
    "resultados_filt = resultados[resultados_colunas]\n",
    "\n",
    "# Checando se o número de linhas do dataset original é igual ao número de linhas do dataset filtrado\n",
    "assert resultados_filt.drop_duplicates().shape[0] == resultados.shape[0]"
   ]
  },
  {
   "cell_type": "markdown",
   "metadata": {},
   "source": [
    "O próximo passo é verificar quais registros brancos ou nulos podem ser removidos da base. \n",
    "\n",
    "Segundo as informações do dicionário, algumas especificações importantes sobre o dataset `eleitorado` são:\n",
    "- Campos preenchidos como #NULO significam que a informação está em branco;\n",
    "- Campos preenchidos com #NE significa que a informação não está disponível.\n",
    "\n",
    "Vamos buscar por esses valores e verificar se há registros a serem removidos."
   ]
  },
  {
   "cell_type": "code",
   "execution_count": 31,
   "metadata": {},
   "outputs": [
    {
     "name": "stdout",
     "output_type": "stream",
     "text": [
      "Coluna: CD_MUNICIPIO | OK\n",
      "Coluna: NM_MUNICIPIO | OK\n",
      "Coluna: NR_ZONA | OK\n",
      "Coluna: DS_GENERO | OK\n",
      "Coluna: DS_ESTADO_CIVIL | OK\n",
      "Coluna: DS_FAIXA_ETARIA | OK\n",
      "Coluna: DS_GRAU_ESCOLARIDADE | OK\n",
      "Coluna: QT_ELEITORES_PERFIL | OK\n"
     ]
    }
   ],
   "source": [
    "for columns in eleitorado_filt.columns:\n",
    "    flt_nulo = eleitorado_filt[columns] == \"#NULO\"\n",
    "    flt_ne = eleitorado_filt[columns] == \"#NE\"\n",
    "    \n",
    "    n_nulo = eleitorado_filt[flt_nulo].shape[0]\n",
    "    n_ne = eleitorado_filt[flt_ne].shape[0]\n",
    "    \n",
    "    if n_nulo > 0 or n_ne > 0:\n",
    "        print(f\"Coluna: {columns} | #NULO: {n_nulo} | #NE: {n_ne}\")\n",
    "    else:\n",
    "        print(f\"Coluna: {columns} | OK\")"
   ]
  },
  {
   "cell_type": "code",
   "execution_count": 32,
   "metadata": {},
   "outputs": [
    {
     "name": "stdout",
     "output_type": "stream",
     "text": [
      "Coluna: NM_TIPO_ELEICAO | OK\n",
      "Coluna: DS_ELEICAO | OK\n",
      "Coluna: CD_MUNICIPIO | OK\n",
      "Coluna: NM_MUNICIPIO | OK\n",
      "Coluna: NR_ZONA | OK\n",
      "Coluna: NR_SECAO | OK\n",
      "Coluna: NR_LOCAL_VOTACAO | OK\n",
      "Coluna: DS_CARGO_PERGUNTA | OK\n",
      "Coluna: SG_PARTIDO | OK\n",
      "Coluna: NR_VOTAVEL | OK\n",
      "Coluna: NM_VOTAVEL | Nulo: 171359 | Branco: 171203\n",
      "Coluna: QT_VOTOS | OK\n"
     ]
    }
   ],
   "source": [
    "for columns in resultados_filt.columns:\n",
    "    flt_nulo = resultados_filt[columns] == \"Nulo\"\n",
    "    flt_branco = resultados_filt[columns] == \"Branco\"\n",
    "    \n",
    "    n_nulo = resultados_filt[flt_nulo].shape[0]\n",
    "    n_branco = resultados_filt[flt_branco].shape[0]\n",
    "    \n",
    "    if n_nulo > 0 or n_branco > 0:\n",
    "        print(f\"Coluna: {columns} | Nulo: {n_nulo} | Branco: {n_branco}\")\n",
    "    else:\n",
    "        print(f\"Coluna: {columns} | OK\")"
   ]
  },
  {
   "cell_type": "markdown",
   "metadata": {},
   "source": [
    "Essas ocorrências de `NM_VOTAVEL` nulo e branco são justamente devido aos votos nulos e brancos. Vamos remover essas linhas do nosso dataset."
   ]
  },
  {
   "cell_type": "code",
   "execution_count": 41,
   "metadata": {},
   "outputs": [
    {
     "name": "stdout",
     "output_type": "stream",
     "text": [
      "Foram removidos 2856552 votos brancos\n"
     ]
    }
   ],
   "source": [
    "# removendo votos brancos\n",
    "flt_branco = resultados_filt[\"NM_VOTAVEL\"] == \"Branco\"\n",
    "print(f\"Foram removidos {resultados_filt[flt_branco]['QT_VOTOS'].sum()} votos brancos.\")\n",
    "resultados_filt = resultados_filt[~flt_branco]\n",
    "\n",
    "# removendo votos nulos\n",
    "flt_nulo = resultados_filt[\"NM_VOTAVEL\"] == \"Nulo\"\n",
    "print(f\"Foram removidos {resultados_filt[flt_nulo]['QT_VOTOS'].sum()} votos nulos.\")\n",
    "resultados_filt = resultados_filt[~flt_nulo]"
   ]
  },
  {
   "cell_type": "markdown",
   "metadata": {},
   "source": [
    "### **🐘 Dump dos dados tratados em um banco de dados relacional**"
   ]
  },
  {
   "cell_type": "markdown",
   "metadata": {},
   "source": [
    "### **⌨️ Acesso aos dados via SQL em Python**"
   ]
  },
  {
   "cell_type": "markdown",
   "metadata": {},
   "source": [
    "### **📊 Análise Exploratória dos Dados**"
   ]
  },
  {
   "cell_type": "markdown",
   "metadata": {},
   "source": [
    "### **Conclusões 💬**"
   ]
  }
 ],
 "metadata": {
  "kernelspec": {
   "display_name": "Python 3",
   "language": "python",
   "name": "python3"
  },
  "language_info": {
   "codemirror_mode": {
    "name": "ipython",
    "version": 3
   },
   "file_extension": ".py",
   "mimetype": "text/x-python",
   "name": "python",
   "nbconvert_exporter": "python",
   "pygments_lexer": "ipython3",
   "version": "3.11.3"
  },
  "orig_nbformat": 4
 },
 "nbformat": 4,
 "nbformat_minor": 2
}
